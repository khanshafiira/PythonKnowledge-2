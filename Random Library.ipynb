{
 "cells": [
  {
   "cell_type": "markdown",
   "id": "4e35dc8d-5952-4a76-bb97-2190f9df9361",
   "metadata": {},
   "source": [
    "### Random Library\n",
    "\n",
    "Random module in Python contains **a set of functions for generating and manipulating random integers**. The import random loads the random module, which contains a number of functions related to random number creation."
   ]
  },
  {
   "cell_type": "markdown",
   "id": "f2d078ce-ccbe-4987-897c-2a383ae1632c",
   "metadata": {},
   "source": [
    "Example #1"
   ]
  },
  {
   "cell_type": "code",
   "execution_count": 1,
   "id": "fd7c5fd4-4638-43b8-beae-0da606fc4ca4",
   "metadata": {},
   "outputs": [],
   "source": [
    "from random import randint"
   ]
  },
  {
   "cell_type": "code",
   "execution_count": 2,
   "id": "cda5ecb0-9f59-44b5-b7db-0d2453715781",
   "metadata": {},
   "outputs": [
    {
     "name": "stdout",
     "output_type": "stream",
     "text": [
      "Random num 0 is 7\n",
      "Random num 1 is 3\n",
      "Random num 2 is 5\n",
      "Random num 3 is 1\n",
      "Random num 4 is 9\n",
      "Random num 5 is 4\n",
      "Random num 6 is 6\n",
      "Random num 7 is 9\n",
      "Random num 8 is 4\n",
      "Random num 9 is 3\n",
      "Random num 10 is 1\n",
      "Random num 11 is 3\n",
      "Random num 12 is 5\n"
     ]
    }
   ],
   "source": [
    "for a in range(13):\n",
    "    print(f\"Random num {a} is {randint(1,10)}\")"
   ]
  },
  {
   "cell_type": "markdown",
   "id": "19301366-38b6-4c60-aaa1-f0f9a3196f19",
   "metadata": {},
   "source": [
    "let's retry it!"
   ]
  },
  {
   "cell_type": "code",
   "execution_count": 3,
   "id": "61b54ba8-10ee-44b0-90bf-4893a2b44e6f",
   "metadata": {},
   "outputs": [
    {
     "name": "stdout",
     "output_type": "stream",
     "text": [
      "Random num 0 is 5\n",
      "Random num 1 is 2\n",
      "Random num 2 is 1\n",
      "Random num 3 is 2\n",
      "Random num 4 is 6\n",
      "Random num 5 is 8\n",
      "Random num 6 is 5\n",
      "Random num 7 is 1\n",
      "Random num 8 is 6\n",
      "Random num 9 is 2\n",
      "Random num 10 is 8\n",
      "Random num 11 is 5\n",
      "Random num 12 is 2\n"
     ]
    }
   ],
   "source": [
    "for a in range(13):\n",
    "    print(f\"Random num {a} is {randint(1,10)}\")"
   ]
  },
  {
   "cell_type": "markdown",
   "id": "b715309f-4793-47e2-8bb7-22e34a8cca6d",
   "metadata": {},
   "source": [
    "Example #2"
   ]
  },
  {
   "cell_type": "code",
   "execution_count": 4,
   "id": "ac47f974-ad28-4e6d-9035-fdf673a42e17",
   "metadata": {},
   "outputs": [],
   "source": [
    "import random"
   ]
  },
  {
   "cell_type": "code",
   "execution_count": 5,
   "id": "446316af-1f69-49da-bce6-9ae764834e9b",
   "metadata": {},
   "outputs": [
    {
     "name": "stdout",
     "output_type": "stream",
     "text": [
      "cherry\n"
     ]
    }
   ],
   "source": [
    "fruits = ['blueberry', 'cherry', 'raspberry']\n",
    "\n",
    "print(random.choice(fruits))"
   ]
  },
  {
   "cell_type": "markdown",
   "id": "f10e10f4-08b9-47ba-b3ac-1c88f192804c",
   "metadata": {},
   "source": [
    "let's retry it!"
   ]
  },
  {
   "cell_type": "code",
   "execution_count": 7,
   "id": "022e8f00-4579-42fd-8e7d-3ba3a63af29b",
   "metadata": {},
   "outputs": [
    {
     "name": "stdout",
     "output_type": "stream",
     "text": [
      "raspberry\n"
     ]
    }
   ],
   "source": [
    "fruits = ['blueberry', 'cherry', 'raspberry']\n",
    "\n",
    "print(random.choice(fruits))"
   ]
  }
 ],
 "metadata": {
  "kernelspec": {
   "display_name": "Python 3 (ipykernel)",
   "language": "python",
   "name": "python3"
  },
  "language_info": {
   "codemirror_mode": {
    "name": "ipython",
    "version": 3
   },
   "file_extension": ".py",
   "mimetype": "text/x-python",
   "name": "python",
   "nbconvert_exporter": "python",
   "pygments_lexer": "ipython3",
   "version": "3.11.7"
  }
 },
 "nbformat": 4,
 "nbformat_minor": 5
}
