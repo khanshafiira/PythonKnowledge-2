{
 "cells": [
  {
   "cell_type": "markdown",
   "id": "e6f95a20-3342-4b2c-8784-f571e4064f30",
   "metadata": {},
   "source": [
    "### .txt file\n",
    "\n",
    "A text file is a computer file that is organized into lines of electronic text. In programming and Python, it refers to a file that contains a single string-type data object. In general, it is encoded by the computer and must be decoded before being processed by a program."
   ]
  },
  {
   "cell_type": "markdown",
   "id": "634536b0-5734-476b-a050-378a3c508eb0",
   "metadata": {},
   "source": [
    "Open from .txt file"
   ]
  },
  {
   "cell_type": "code",
   "execution_count": 1,
   "id": "89dd09b2-8917-49b8-ab50-026c6ca2a2b6",
   "metadata": {},
   "outputs": [],
   "source": [
    "workFile = open('kids.txt', 'r')"
   ]
  },
  {
   "cell_type": "code",
   "execution_count": 2,
   "id": "d498d5d1-2e7c-4908-b26f-2d228815b107",
   "metadata": {},
   "outputs": [],
   "source": [
    "workFileContents = workFile.read()"
   ]
  },
  {
   "cell_type": "code",
   "execution_count": 3,
   "id": "4a08e071-1dd9-41e3-b938-8b61148ef647",
   "metadata": {},
   "outputs": [
    {
     "name": "stdout",
     "output_type": "stream",
     "text": [
      "Name, Age\n",
      "Zira, 7\n",
      "Cila, 10\n",
      "Aya, 8\n",
      "Sasa, 6\n",
      "Lala, 10\n"
     ]
    }
   ],
   "source": [
    "print(workFileContents)"
   ]
  },
  {
   "cell_type": "markdown",
   "id": "2fb864e4-4d78-42db-b5b0-59d4b3387eaf",
   "metadata": {},
   "source": [
    "check the first line"
   ]
  },
  {
   "cell_type": "code",
   "execution_count": 4,
   "id": "dbd1b8e6-8eea-4076-8a04-7a8bc82d56bc",
   "metadata": {},
   "outputs": [],
   "source": [
    "workFile = open('kids.txt', 'r')"
   ]
  },
  {
   "cell_type": "code",
   "execution_count": 5,
   "id": "3af40c96-3a15-416d-9ac9-2b09ed4597d7",
   "metadata": {},
   "outputs": [
    {
     "name": "stdout",
     "output_type": "stream",
     "text": [
      "Name, Age\n",
      "\n"
     ]
    }
   ],
   "source": [
    "workFileFirstLine = workFile.readline()\n",
    "\n",
    "print(workFileFirstLine)"
   ]
  },
  {
   "cell_type": "markdown",
   "id": "175d55ef-522e-4c67-8b2b-71c9c0447aa8",
   "metadata": {},
   "source": [
    "check the second line"
   ]
  },
  {
   "cell_type": "code",
   "execution_count": 6,
   "id": "7eac95d4-fb4b-4aa8-bf55-ea091d534434",
   "metadata": {},
   "outputs": [
    {
     "name": "stdout",
     "output_type": "stream",
     "text": [
      "Zira, 7\n",
      "\n"
     ]
    }
   ],
   "source": [
    "workFileSecondLine = workFile.readline()\n",
    "\n",
    "print(workFileSecondLine)"
   ]
  },
  {
   "cell_type": "markdown",
   "id": "20b8b1cd-e18e-431f-85ca-84af89d160de",
   "metadata": {},
   "source": [
    "check the last line"
   ]
  },
  {
   "cell_type": "code",
   "execution_count": 7,
   "id": "4c1b1612-39ad-4cab-9f40-0a0a7ce2494e",
   "metadata": {},
   "outputs": [
    {
     "name": "stdout",
     "output_type": "stream",
     "text": [
      "Cila, 10\n",
      "\n"
     ]
    }
   ],
   "source": [
    "workFileSecondLine = workFile.readline()\n",
    "\n",
    "print(workFileSecondLine)"
   ]
  },
  {
   "cell_type": "markdown",
   "id": "09feeed4-53f1-41b2-b64e-c3599feb62f8",
   "metadata": {},
   "source": [
    "closing file .txt"
   ]
  },
  {
   "cell_type": "code",
   "execution_count": 8,
   "id": "6c81fafd-8ac8-4dfb-9e0c-8df7e477ffa2",
   "metadata": {},
   "outputs": [],
   "source": [
    "workFile.close()"
   ]
  }
 ],
 "metadata": {
  "kernelspec": {
   "display_name": "Python 3 (ipykernel)",
   "language": "python",
   "name": "python3"
  },
  "language_info": {
   "codemirror_mode": {
    "name": "ipython",
    "version": 3
   },
   "file_extension": ".py",
   "mimetype": "text/x-python",
   "name": "python",
   "nbconvert_exporter": "python",
   "pygments_lexer": "ipython3",
   "version": "3.11.7"
  }
 },
 "nbformat": 4,
 "nbformat_minor": 5
}
