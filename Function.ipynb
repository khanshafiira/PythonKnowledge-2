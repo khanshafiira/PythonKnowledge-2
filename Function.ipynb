{
 "cells": [
  {
   "cell_type": "markdown",
   "id": "7f206694-2476-4a45-b4b2-df2e9235c4dc",
   "metadata": {},
   "source": [
    "### FUNCTION\n",
    "\n",
    "A function is a unit of code that only executes when invoked. A function may return data as a result."
   ]
  },
  {
   "cell_type": "markdown",
   "id": "ba094864-bffd-4d17-9ea1-286c63f31e0f",
   "metadata": {},
   "source": [
    "Example:"
   ]
  },
  {
   "cell_type": "code",
   "execution_count": 1,
   "id": "d21998a0-b304-45a8-b7f7-09fbc5c3ea27",
   "metadata": {},
   "outputs": [],
   "source": [
    "#Using formula of rectangle area\n",
    "\n",
    "def rectangle(length, width):\n",
    "    area = length * width #rectangle area formula\n",
    "    return area"
   ]
  },
  {
   "cell_type": "code",
   "execution_count": 2,
   "id": "d4ef0d4f-b8a8-400b-a97b-cefeaf3918d1",
   "metadata": {},
   "outputs": [],
   "source": [
    "length = 13\n",
    "width = 8"
   ]
  },
  {
   "cell_type": "code",
   "execution_count": 3,
   "id": "56e84a5a-ad1c-4828-9d79-1c2eb1444087",
   "metadata": {},
   "outputs": [
    {
     "name": "stdout",
     "output_type": "stream",
     "text": [
      "rectangle area is 104\n"
     ]
    }
   ],
   "source": [
    "print(\"rectangle area is\", rectangle(length, width))"
   ]
  },
  {
   "cell_type": "markdown",
   "id": "4540c0ab-b394-436f-92c4-ccd0d6926244",
   "metadata": {},
   "source": [
    "### RETURN STATEMENT\n",
    "\n",
    "The Python return statement is a special statement that can be used within a function or method to return the function's results to the caller.\n",
    "\n",
    "There are several options for using function with the return statement"
   ]
  },
  {
   "cell_type": "markdown",
   "id": "55e79508-a4cc-424b-8718-e15e7b1b8fe8",
   "metadata": {},
   "source": [
    "Example #1"
   ]
  },
  {
   "cell_type": "code",
   "execution_count": 4,
   "id": "bc366099-868d-40e6-bf9f-b6d11c548f89",
   "metadata": {},
   "outputs": [],
   "source": [
    "#if there is only 1 function and it is combined with print to display the complementary text\n",
    "def tambah(x,y):\n",
    "    plus = x + y #fungsi penjumlahan\n",
    "    print(\"Hasil penjumlahan adalah {}\".format(plus))\n",
    "    return plus"
   ]
  },
  {
   "cell_type": "code",
   "execution_count": 5,
   "id": "b46517d8-4cad-457e-8ec3-7da55384f26c",
   "metadata": {},
   "outputs": [
    {
     "name": "stdout",
     "output_type": "stream",
     "text": [
      "Hasil penjumlahan adalah 13\n"
     ]
    },
    {
     "data": {
      "text/plain": [
       "13"
      ]
     },
     "execution_count": 5,
     "metadata": {},
     "output_type": "execute_result"
    }
   ],
   "source": [
    "tambah(7,6)"
   ]
  },
  {
   "cell_type": "markdown",
   "id": "27871641-3fef-4d60-b63c-16699a5a1dfa",
   "metadata": {},
   "source": [
    "Example #2"
   ]
  },
  {
   "cell_type": "code",
   "execution_count": 6,
   "id": "beede23f-9223-4fac-9737-3f27244d739d",
   "metadata": {},
   "outputs": [],
   "source": [
    "#if there are multiple functions, return will return the desired one to display\n",
    "def arithmetic_operators(a,b):\n",
    "    addition = a + b\n",
    "    subtraction = a - b\n",
    "    multiplication = a * b\n",
    "    division = a / b\n",
    "    return subtraction"
   ]
  },
  {
   "cell_type": "code",
   "execution_count": 7,
   "id": "be0c65b8-ae16-4ab6-b06e-baa402cf8270",
   "metadata": {},
   "outputs": [
    {
     "data": {
      "text/plain": [
       "13"
      ]
     },
     "execution_count": 7,
     "metadata": {},
     "output_type": "execute_result"
    }
   ],
   "source": [
    "arithmetic_operators(15,2)"
   ]
  },
  {
   "cell_type": "markdown",
   "id": "dba23271-f068-41d8-88ef-0ce5847fa90a",
   "metadata": {},
   "source": [
    "Example #3"
   ]
  },
  {
   "cell_type": "code",
   "execution_count": 8,
   "id": "d9605654-a4c3-4e81-8f52-cdbf41320650",
   "metadata": {},
   "outputs": [
    {
     "name": "stdout",
     "output_type": "stream",
     "text": [
      "The result is -1\n"
     ]
    }
   ],
   "source": [
    "output_addition = arithmetic_operators(3,4)\n",
    "print(\"The result is {}\".format(output_addition))"
   ]
  },
  {
   "cell_type": "markdown",
   "id": "fa958b59-e4af-49a9-ac6a-2a86920da9d1",
   "metadata": {},
   "source": [
    "Example #4"
   ]
  },
  {
   "cell_type": "code",
   "execution_count": 9,
   "id": "fad82f29-dd31-4ad9-8c20-532876477533",
   "metadata": {},
   "outputs": [],
   "source": [
    "#with string\n",
    "\n",
    "def time(x):\n",
    "    now = \"It is currently {}\".format(x)\n",
    "    return now"
   ]
  },
  {
   "cell_type": "code",
   "execution_count": 10,
   "id": "7ed8cd0f-3e8a-4d87-820f-4892d8dd2f6c",
   "metadata": {},
   "outputs": [
    {
     "data": {
      "text/plain": [
       "'It is currently 17.00'"
      ]
     },
     "execution_count": 10,
     "metadata": {},
     "output_type": "execute_result"
    }
   ],
   "source": [
    "time(\"17.00\")"
   ]
  },
  {
   "cell_type": "markdown",
   "id": "a5ea8905-5b56-42a3-8590-46bc54a0a8b7",
   "metadata": {},
   "source": [
    "Example #5\n",
    "\n",
    "Using input() and print() instead of return in functions, which is handy when there are many variables to be shown."
   ]
  },
  {
   "cell_type": "code",
   "execution_count": 11,
   "id": "00e7cdf9-c631-4bca-820e-868cda73a9b0",
   "metadata": {},
   "outputs": [],
   "source": [
    "def sq_root(x):\n",
    "    square_root = x**0.5\n",
    "    return square_root"
   ]
  },
  {
   "cell_type": "code",
   "execution_count": 12,
   "id": "1dda04df-dce8-4b1f-822b-729e819b6c8e",
   "metadata": {},
   "outputs": [
    {
     "name": "stdin",
     "output_type": "stream",
     "text": [
      " 169\n"
     ]
    },
    {
     "name": "stdout",
     "output_type": "stream",
     "text": [
      "the result is 13.0\n"
     ]
    }
   ],
   "source": [
    "number = int(input().strip())\n",
    "result = sq_root(number)\n",
    "print(\"the result is {}\".format(result))"
   ]
  },
  {
   "cell_type": "code",
   "execution_count": 13,
   "id": "c84bbb20",
   "metadata": {},
   "outputs": [
    {
     "name": "stdin",
     "output_type": "stream",
     "text": [
      " 36\n"
     ]
    },
    {
     "name": "stdout",
     "output_type": "stream",
     "text": [
      "the result is 6.0\n"
     ]
    }
   ],
   "source": [
    "number = int(input().strip())\n",
    "result = sq_root(number)\n",
    "print(\"the result is {}\".format(result))"
   ]
  },
  {
   "cell_type": "markdown",
   "id": "1998e85b-16ca-4e1b-9880-5db8ccfba8a9",
   "metadata": {},
   "source": [
    "### PASS BY REFERENCE VS PASS BY VALUE"
   ]
  },
  {
   "cell_type": "markdown",
   "id": "f31bb781-c86c-4e7a-9ff4-5c78c382d81c",
   "metadata": {},
   "source": [
    "Pass by Reference\n",
    "\n",
    "Pass by reference indicates that you must send the function (reference) to a variable, implying that the variable already exists in memory."
   ]
  },
  {
   "cell_type": "code",
   "execution_count": 14,
   "id": "1412a35c-e945-4b76-9360-274aa0912ec3",
   "metadata": {},
   "outputs": [],
   "source": [
    "def change(odd_number):\n",
    "    odd_number.append([3,5])\n",
    "    print(\"here is list for odd number: {}\".format(odd_number))"
   ]
  },
  {
   "cell_type": "code",
   "execution_count": 15,
   "id": "30b0858e-5920-4d08-b8aa-9d32a5dbf6ae",
   "metadata": {},
   "outputs": [
    {
     "name": "stdout",
     "output_type": "stream",
     "text": [
      "here is list for odd number: [13, [3, 5]]\n"
     ]
    }
   ],
   "source": [
    "change([13])"
   ]
  },
  {
   "cell_type": "code",
   "execution_count": 16,
   "id": "294f9fcd-ac4b-4095-b7ca-21ddd479a797",
   "metadata": {},
   "outputs": [
    {
     "name": "stdout",
     "output_type": "stream",
     "text": [
      "here is list for odd number: [13, 17, [3, 5]]\n"
     ]
    }
   ],
   "source": [
    "change([13, 17])"
   ]
  },
  {
   "cell_type": "markdown",
   "id": "10532737-f072-48bf-b337-95478fa4a027",
   "metadata": {},
   "source": [
    "Pass by values\n",
    "\n",
    "Pass by values means passing a copy of the function's actual variables as a parameter. As a result, any changes to the function's parameters will not affect the actual variable."
   ]
  },
  {
   "cell_type": "code",
   "execution_count": 17,
   "id": "ba3a36cd-2cce-4033-9552-9652f684cf01",
   "metadata": {},
   "outputs": [
    {
     "name": "stdout",
     "output_type": "stream",
     "text": [
      "here is list for odd number: [13, [3, 5]]\n",
      "another list for odd number: [13, [3, 5]]\n"
     ]
    }
   ],
   "source": [
    "odd_number = [13]\n",
    "change(odd_number)\n",
    "print(\"another list for odd number: {}\".format(odd_number))"
   ]
  },
  {
   "cell_type": "code",
   "execution_count": 18,
   "id": "cdd410c1-694c-4a4c-8486-557fa4b711dd",
   "metadata": {},
   "outputs": [
    {
     "name": "stdout",
     "output_type": "stream",
     "text": [
      "here is list for odd number: [17, [3, 5]]\n",
      "another list for odd number: [17, [3, 5]]\n"
     ]
    }
   ],
   "source": [
    "odd_number = [17]\n",
    "change(odd_number)\n",
    "print(\"another list for odd number: {}\".format(odd_number))"
   ]
  }
 ],
 "metadata": {
  "kernelspec": {
   "display_name": "Python 3 (ipykernel)",
   "language": "python",
   "name": "python3"
  },
  "language_info": {
   "codemirror_mode": {
    "name": "ipython",
    "version": 3
   },
   "file_extension": ".py",
   "mimetype": "text/x-python",
   "name": "python",
   "nbconvert_exporter": "python",
   "pygments_lexer": "ipython3",
   "version": "3.11.7"
  }
 },
 "nbformat": 4,
 "nbformat_minor": 5
}
