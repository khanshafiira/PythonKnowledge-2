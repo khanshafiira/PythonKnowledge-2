{
 "cells": [
  {
   "cell_type": "markdown",
   "id": "fb06bc47-2c94-49da-8c36-a17944b40bcc",
   "metadata": {},
   "source": [
    "### Datetime\n",
    "\n",
    "Datetime in Python is a combination of dates and times. This class has attributes that are similar to both dates and independent classes. These properties are: day, month, year, minute, second, microsecond, hour, and tzinfo."
   ]
  },
  {
   "cell_type": "code",
   "execution_count": 1,
   "id": "577c44db-0ee1-4912-b34a-dcc5723fe33f",
   "metadata": {},
   "outputs": [],
   "source": [
    "import datetime"
   ]
  },
  {
   "cell_type": "code",
   "execution_count": 2,
   "id": "3f72938b-2d24-4651-ae0f-608c659942f7",
   "metadata": {},
   "outputs": [
    {
     "data": {
      "text/plain": [
       "datetime.datetime(2024, 4, 20, 14, 43, 43, 238825)"
      ]
     },
     "execution_count": 2,
     "metadata": {},
     "output_type": "execute_result"
    }
   ],
   "source": [
    "todayWithTime = datetime.datetime.today()\n",
    "\n",
    "todayWithTime"
   ]
  },
  {
   "cell_type": "code",
   "execution_count": 3,
   "id": "5afca3b2-b716-4a34-9b51-85a4fa305615",
   "metadata": {},
   "outputs": [
    {
     "data": {
      "text/plain": [
       "datetime.date(2024, 4, 20)"
      ]
     },
     "execution_count": 3,
     "metadata": {},
     "output_type": "execute_result"
    }
   ],
   "source": [
    "todayWithoutTime = datetime.date.today()\n",
    "\n",
    "todayWithoutTime"
   ]
  },
  {
   "cell_type": "markdown",
   "id": "52ba391f-99d8-41e9-8336-65ea2f9afc0f",
   "metadata": {},
   "source": [
    "Example for Formatting datetime #1"
   ]
  },
  {
   "cell_type": "code",
   "execution_count": 4,
   "id": "8d6c5e77-04f2-41cb-aebb-c7a2623bb3bc",
   "metadata": {},
   "outputs": [
    {
     "data": {
      "text/plain": [
       "'2024-04-20 14:43:43'"
      ]
     },
     "execution_count": 4,
     "metadata": {},
     "output_type": "execute_result"
    }
   ],
   "source": [
    "formatting_datetime = datetime.datetime.strftime(todayWithTime, \"%Y-%m-%d %H:%M:%S\")\n",
    "\n",
    "formatting_datetime"
   ]
  },
  {
   "cell_type": "markdown",
   "id": "ea11d16f-9fc5-4815-a2ff-ee705327eb2a",
   "metadata": {},
   "source": [
    "Example for Formatting datetime #2"
   ]
  },
  {
   "cell_type": "code",
   "execution_count": 5,
   "id": "6a25e64d-5bf1-44d2-bf1e-b18f1b9d7eda",
   "metadata": {},
   "outputs": [
    {
     "data": {
      "text/plain": [
       "'14: 43: 43:'"
      ]
     },
     "execution_count": 5,
     "metadata": {},
     "output_type": "execute_result"
    }
   ],
   "source": [
    "formatting_time = datetime.datetime.strftime(todayWithTime, \"%H: %M: %S:\")\n",
    "\n",
    "formatting_time"
   ]
  },
  {
   "cell_type": "markdown",
   "id": "1a7ce46d-a01a-4fae-a3ec-4ec698685296",
   "metadata": {},
   "source": [
    "Example for Formatting datetime #3"
   ]
  },
  {
   "cell_type": "code",
   "execution_count": 6,
   "id": "baf95b06-e20d-401c-a837-97b27ef9566c",
   "metadata": {},
   "outputs": [
    {
     "data": {
      "text/plain": [
       "'04/20/2024'"
      ]
     },
     "execution_count": 6,
     "metadata": {},
     "output_type": "execute_result"
    }
   ],
   "source": [
    "formatting_date = datetime.datetime.strftime(todayWithoutTime, \"%m/%d/%Y\")\n",
    "\n",
    "formatting_date"
   ]
  }
 ],
 "metadata": {
  "kernelspec": {
   "display_name": "Python 3 (ipykernel)",
   "language": "python",
   "name": "python3"
  },
  "language_info": {
   "codemirror_mode": {
    "name": "ipython",
    "version": 3
   },
   "file_extension": ".py",
   "mimetype": "text/x-python",
   "name": "python",
   "nbconvert_exporter": "python",
   "pygments_lexer": "ipython3",
   "version": "3.11.7"
  }
 },
 "nbformat": 4,
 "nbformat_minor": 5
}
