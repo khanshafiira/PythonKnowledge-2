{
 "cells": [
  {
   "cell_type": "markdown",
   "id": "ef5c3f00-01ea-4d9f-821a-394a0c2d3a4f",
   "metadata": {},
   "source": [
    "### NumPy\n",
    "NumPy (Numerical Python) is a Python library that includes a multidimensional array object, various derived objects, and a collection of routines for performing fast array operations."
   ]
  },
  {
   "cell_type": "code",
   "execution_count": 1,
   "id": "1c7135be-69f8-47ff-b3e7-ad737705f4e5",
   "metadata": {},
   "outputs": [],
   "source": [
    "#import NumPy\n",
    "\n",
    "import numpy as np"
   ]
  },
  {
   "cell_type": "code",
   "execution_count": 2,
   "id": "73138f7d-7b07-4ebd-9421-134a0ae07698",
   "metadata": {},
   "outputs": [
    {
     "name": "stdout",
     "output_type": "stream",
     "text": [
      "1.26.4\n"
     ]
    }
   ],
   "source": [
    "#checking NumPy version\n",
    "\n",
    "print(np.__version__)"
   ]
  },
  {
   "cell_type": "code",
   "execution_count": 3,
   "id": "6621929c-6c34-4b3f-b074-f84556dc7ca7",
   "metadata": {},
   "outputs": [
    {
     "name": "stdout",
     "output_type": "stream",
     "text": [
      "['strawberry' 'blueberry' 'cherry' 'cranberry' 'blackberry']\n",
      "<class 'numpy.ndarray'>\n"
     ]
    }
   ],
   "source": [
    "#creating a NumPy array with a list\n",
    "\n",
    "arr = np.array([\"strawberry\", \"blueberry\", \"cherry\", \"cranberry\", \"blackberry\"])\n",
    "\n",
    "print(arr)\n",
    "\n",
    "print(type(arr))"
   ]
  },
  {
   "cell_type": "code",
   "execution_count": 4,
   "id": "ddea9ab6-ed9e-4d6e-9a5e-39ec3dffdb4b",
   "metadata": {},
   "outputs": [
    {
     "name": "stdout",
     "output_type": "stream",
     "text": [
      "['strawberry' 'blueberry' 'cherry' 'cranberry' 'blackberry']\n",
      "<class 'numpy.ndarray'>\n"
     ]
    }
   ],
   "source": [
    "#use a tuple to create a NumPy array\n",
    "\n",
    "arr = np.array((\"strawberry\", \"blueberry\", \"cherry\", \"cranberry\", \"blackberry\"))\n",
    "\n",
    "print(arr)\n",
    "\n",
    "print(type(arr))"
   ]
  },
  {
   "cell_type": "markdown",
   "id": "4e95c345-891f-484b-9a2f-212020968598",
   "metadata": {},
   "source": [
    "## DIMENSION\n",
    "\n",
    "NumPy's primary object is a homogenous multidimensional array. It is a table with elements (typically numbers) of the same type, each indexed by a non-negative integer tuple. In NumPy, dimensions are referred to as axes.ay"
   ]
  },
  {
   "cell_type": "code",
   "execution_count": 5,
   "id": "c6e2be8f-4996-4dd1-95ce-9cc89a344b9d",
   "metadata": {},
   "outputs": [
    {
     "name": "stdout",
     "output_type": "stream",
     "text": [
      "13\n"
     ]
    }
   ],
   "source": [
    "#0-D array\n",
    "\n",
    "arr = np.array(13)\n",
    "\n",
    "print(arr)"
   ]
  },
  {
   "cell_type": "code",
   "execution_count": 6,
   "id": "ee6f0364-7240-47a3-9f39-a9d523a81f74",
   "metadata": {},
   "outputs": [
    {
     "name": "stdout",
     "output_type": "stream",
     "text": [
      "[11 12 13]\n"
     ]
    }
   ],
   "source": [
    "#create a 1-D array\n",
    "\n",
    "arr = np.array([11, 12, 13])\n",
    "\n",
    "print(arr)"
   ]
  },
  {
   "cell_type": "code",
   "execution_count": 7,
   "id": "93c2ee02-7d4b-43d3-984b-d9db68b6e9d3",
   "metadata": {},
   "outputs": [
    {
     "name": "stdout",
     "output_type": "stream",
     "text": [
      "[[ 8  9 10]\n",
      " [11 12 13]\n",
      " [14 15 16]]\n"
     ]
    }
   ],
   "source": [
    "#create a 2-D array containing two arrays\n",
    "\n",
    "arr = np.array([[8,9,10], [11, 12, 13], [14, 15, 16]])\n",
    "\n",
    "print(arr)"
   ]
  },
  {
   "cell_type": "code",
   "execution_count": 8,
   "id": "e8a0269d-a31e-4407-b5a1-554b958f1067",
   "metadata": {},
   "outputs": [
    {
     "name": "stdout",
     "output_type": "stream",
     "text": [
      "[[[ 8  9 10]\n",
      "  [11 12 13]]\n",
      "\n",
      " [[ 8  9 10]\n",
      "  [11 12 13]]]\n"
     ]
    }
   ],
   "source": [
    "#create a 3-D array with 2-D arrays, both containing two arrays\n",
    "\n",
    "arr = np.array([[[8,9,10], [11, 12, 13]], [[8,9,10], [11, 12, 13]]])\n",
    "\n",
    "print(arr)"
   ]
  },
  {
   "cell_type": "markdown",
   "id": "99c03029-49a5-41f2-a8cd-b5fdb74a474d",
   "metadata": {},
   "source": [
    "Check how many dimensions the arrays have"
   ]
  },
  {
   "cell_type": "code",
   "execution_count": 9,
   "id": "384785c1-1e33-49dc-88c8-d953c492f181",
   "metadata": {},
   "outputs": [
    {
     "name": "stdout",
     "output_type": "stream",
     "text": [
      "0\n",
      "1\n",
      "2\n",
      "3\n"
     ]
    }
   ],
   "source": [
    "a = np.array(13)\n",
    "b = np.array([11, 12, 13])\n",
    "c = np.array([[8,9,10], [11, 12, 13], [14, 15, 16]])\n",
    "d = np.array([[[8,9,10], [11, 12, 13]], [[8,9,10], [11, 12, 13]]])\n",
    "\n",
    "print(a.ndim)\n",
    "print(b.ndim)\n",
    "print(c.ndim)\n",
    "print(d.ndim)"
   ]
  },
  {
   "cell_type": "code",
   "execution_count": 10,
   "id": "53658f72-8f47-4208-801a-d0bf75efb63e",
   "metadata": {},
   "outputs": [],
   "source": [
    "#notes: ndim represents the number of dimensions (axes) of the ndarray."
   ]
  },
  {
   "cell_type": "code",
   "execution_count": 11,
   "id": "5ff880b5-6395-4c7e-a3d8-71359acc123e",
   "metadata": {},
   "outputs": [
    {
     "name": "stdout",
     "output_type": "stream",
     "text": [
      "[[[[[10 11 12 13]]]]]\n",
      "number of dimensions: 5\n"
     ]
    }
   ],
   "source": [
    "#create an array with 5 dimensions and verify that it has 5 dimensions\n",
    "\n",
    "arr = np.array([10, 11, 12, 13], ndmin=5)\n",
    "\n",
    "print(arr)\n",
    "print('number of dimensions:', arr.ndim)"
   ]
  },
  {
   "cell_type": "code",
   "execution_count": 12,
   "id": "3fa842b1-1d14-44e8-8ca4-dc16422b2796",
   "metadata": {},
   "outputs": [
    {
     "name": "stdout",
     "output_type": "stream",
     "text": [
      "[[[ 8  9 10]\n",
      "  [11 12 13]\n",
      "  [14 15 16]]]\n",
      "number of dimensions: 3\n"
     ]
    }
   ],
   "source": [
    "#try to change the dimension into other dimensions\n",
    "arr = np.array([[8,9,10], [11, 12, 13], [14, 15, 16]], ndmin=3)\n",
    "\n",
    "print(arr)\n",
    "print('number of dimensions:', arr.ndim)"
   ]
  },
  {
   "cell_type": "code",
   "execution_count": 13,
   "id": "3fdebb3f-4fd7-4ae8-a07b-6ea6f508e511",
   "metadata": {},
   "outputs": [
    {
     "name": "stdout",
     "output_type": "stream",
     "text": [
      "10\n"
     ]
    }
   ],
   "source": [
    "#get the first element from the following array\n",
    "\n",
    "arr = np.array([10, 11, 12, 13])\n",
    "\n",
    "print(arr[0])"
   ]
  },
  {
   "cell_type": "code",
   "execution_count": 14,
   "id": "7adc40f4-262c-4f06-bdcc-40d69089fbfc",
   "metadata": {},
   "outputs": [
    {
     "name": "stdout",
     "output_type": "stream",
     "text": [
      "11\n"
     ]
    }
   ],
   "source": [
    "#get the second element from the following array\n",
    "\n",
    "arr = np.array([10, 11, 12, 13])\n",
    "\n",
    "print(arr[1])"
   ]
  },
  {
   "cell_type": "code",
   "execution_count": 15,
   "id": "586e7690-fac4-4e93-96d8-b6e95cafc496",
   "metadata": {},
   "outputs": [
    {
     "name": "stdout",
     "output_type": "stream",
     "text": [
      "25\n"
     ]
    }
   ],
   "source": [
    "#get the third and fourth element from the following array\n",
    "\n",
    "arr = np.array([10, 11, 12, 13])\n",
    "\n",
    "print(arr[2] + arr[3])"
   ]
  },
  {
   "cell_type": "code",
   "execution_count": 16,
   "id": "b5f5d941-38d4-45a1-8458-347d82a8a397",
   "metadata": {},
   "outputs": [],
   "source": [
    "#get element\n",
    "arr = np.array([[8,9,10], [11, 12, 13], [14, 15, 16]])"
   ]
  },
  {
   "cell_type": "code",
   "execution_count": 17,
   "id": "7f52655c-dfff-4805-b4fd-1907dfe58822",
   "metadata": {},
   "outputs": [
    {
     "name": "stdout",
     "output_type": "stream",
     "text": [
      "2nd element on 1st row: 12\n"
     ]
    }
   ],
   "source": [
    "#access the element on the first row, second column\n",
    "\n",
    "arr = np.array([[11, 12, 13, 14, 15], [16, 17, 18, 19, 20]])\n",
    "\n",
    "print('2nd element on 1st row:', arr[0,1])"
   ]
  },
  {
   "cell_type": "code",
   "execution_count": 18,
   "id": "e2d192f4-4768-46d5-aea2-c348d868dcc3",
   "metadata": {},
   "outputs": [
    {
     "name": "stdout",
     "output_type": "stream",
     "text": [
      "5th element on 2nd row: 20\n"
     ]
    }
   ],
   "source": [
    "#access the element on the second row, fifth column\n",
    "\n",
    "arr = np.array([[11, 12, 13, 14, 15], [16, 17, 18, 19, 20]])\n",
    "\n",
    "print('5th element on 2nd row:', arr[1,4])"
   ]
  },
  {
   "cell_type": "code",
   "execution_count": 19,
   "id": "cab830f3-ee65-4d9d-bdc7-68ae5860af78",
   "metadata": {},
   "outputs": [
    {
     "name": "stdout",
     "output_type": "stream",
     "text": [
      "3\n"
     ]
    }
   ],
   "source": [
    "#access the third element of the second array of the first array\n",
    "\n",
    "arr = np.array([[[8,9,10], [11, 12, 13]], [[1,2,3], [4, 5, 6]]])\n",
    "\n",
    "print(arr[1, 0, 2])"
   ]
  },
  {
   "cell_type": "code",
   "execution_count": 20,
   "id": "98effd55-ba64-4b0a-9d40-ae8ca0a53f2e",
   "metadata": {},
   "outputs": [
    {
     "name": "stdout",
     "output_type": "stream",
     "text": [
      "[[[ 8  9 10]\n",
      "  [11 12 13]]\n",
      "\n",
      " [[ 1  2  3]\n",
      "  [ 4  5  6]]]\n"
     ]
    }
   ],
   "source": [
    "arr = np.array([[[8,9,10], [11, 12, 13]], [[1,2,3], [4, 5, 6]]])\n",
    "\n",
    "print(arr)"
   ]
  },
  {
   "cell_type": "markdown",
   "id": "a2a89ffe-9c8d-4cb5-b4cd-e2761cf32a01",
   "metadata": {},
   "source": [
    "The Details:"
   ]
  },
  {
   "cell_type": "code",
   "execution_count": 21,
   "id": "e99d470f-f185-45ba-adba-198a8036588d",
   "metadata": {},
   "outputs": [
    {
     "name": "stdout",
     "output_type": "stream",
     "text": [
      "12\n"
     ]
    }
   ],
   "source": [
    "arr = np.array([[[8,9,10], [11, 12, 13]], [[1,2,3], [4, 5, 6]]])\n",
    "\n",
    "print(arr[0, 1, 1])\n",
    "\n",
    "#dim 0 = [[8,9,10], [11, 12, 13]], [[1,2,3], [4, 5, 6]]\n",
    "#row 1 = [11, 12, 13]]\n",
    "#element 2 = 12"
   ]
  }
 ],
 "metadata": {
  "kernelspec": {
   "display_name": "Python 3 (ipykernel)",
   "language": "python",
   "name": "python3"
  },
  "language_info": {
   "codemirror_mode": {
    "name": "ipython",
    "version": 3
   },
   "file_extension": ".py",
   "mimetype": "text/x-python",
   "name": "python",
   "nbconvert_exporter": "python",
   "pygments_lexer": "ipython3",
   "version": "3.11.7"
  }
 },
 "nbformat": 4,
 "nbformat_minor": 5
}
